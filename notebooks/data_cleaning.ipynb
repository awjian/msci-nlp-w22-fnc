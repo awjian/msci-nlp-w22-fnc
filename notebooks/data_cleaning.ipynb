{
 "cells": [
  {
   "cell_type": "code",
   "execution_count": 3,
   "id": "390ed501-ef68-4f69-8ddf-eb2e4d0a4a2f",
   "metadata": {},
   "outputs": [],
   "source": [
    "import pandas as pd\n",
    "\n",
    "# train_stances = pd.read_csv('msci-nlp-w22-fnc/fnc-1-baseline-master/fnc-1/train_stances.csv')\n",
    "# train_bodies = pd.read_csv('msci-nlp-w22-fnc/fnc-1-baseline-master/fnc-1/train_bodies.csv')\n",
    "train_stances = pd.read_csv('../fnc-1-baseline-master/fnc-1/train_stances.csv')\n",
    "train_bodies = pd.read_csv('../fnc-1-baseline-master/fnc-1/train_bodies.csv')\n",
    "train = train_stances.join(train_bodies.set_index('Body ID'), on='Body ID')\n",
    "\n",
    "test_stances = pd.read_csv('../fnc-1-baseline-master/fnc-1/competition_test_stances.csv')\n",
    "test_bodies = pd.read_csv('../fnc-1-baseline-master/fnc-1/competition_test_bodies.csv')\n",
    "test = test_stances.join(test_bodies.set_index('Body ID'), on='Body ID')"
   ]
  },
  {
   "cell_type": "code",
   "execution_count": 10,
   "id": "e95de367-a9db-4133-9134-fee07d5ff9f7",
   "metadata": {},
   "outputs": [],
   "source": [
    "train.replace('disagree', 0, inplace=True)\n",
    "train.replace('agree', 1, inplace=True)\n",
    "train.replace('discuss', 2, inplace=True)\n",
    "train.replace('unrelated', 3, inplace=True)\n",
    "\n",
    "test.replace('disagree', 0, inplace=True)\n",
    "test.replace('agree', 1, inplace=True)\n",
    "test.replace('discuss', 2, inplace=True)\n",
    "test.replace('unrelated', 3, inplace=True)"
   ]
  },
  {
   "cell_type": "code",
   "execution_count": 11,
   "id": "4012fb06-c386-42f6-bce5-a292f03f2a10",
   "metadata": {},
   "outputs": [],
   "source": [
    "train['combinedText'] = \"<sos> <head> \" + train['Headline'] + \" </head> <body> \" + train['articleBody'] + \" </body> <eos>\" \n",
    "test['combinedText'] = \"<sos> <head> \" + test['Headline'] + \" </head> <body> \" + test['articleBody'] + \" </body> <eos>\" "
   ]
  },
  {
   "cell_type": "code",
   "execution_count": null,
   "id": "67506fdf-81b3-4d05-a296-006d9f5be14f",
   "metadata": {},
   "outputs": [],
   "source": [
    "train.to_csv('msci-nlp-w22-fnc/data/train.csv', index=False, encoding = 'utf-8')\n",
    "test.to_csv('msci-nlp-w22-fnc/data/test.csv', index=False, encoding='utf-8')"
   ]
  },
  {
   "cell_type": "code",
   "execution_count": null,
   "id": "26fa7481-60f2-46b1-a706-1de55b8545c2",
   "metadata": {},
   "outputs": [
    {
     "name": "stdout",
     "output_type": "stream",
     "text": [
      "<sos> <head> Ferguson riots: Pregnant woman loses eye after cops fire BEAN BAG round through car window </head> <body> A RESPECTED senior French police officer investigating the Charlie Hebdo magazine massacre took his own life mere hours after the horrific attacks stunned the world.\n",
      "\n",
      "Commissioner Helric Fredou, 45, turned a gun on himself in his police office in Limoges last Wednesday night, reported France 3.\n",
      "\n",
      "A colleague found his body at 1am on Thursday, the day after three gunmen fired at the satirical magazine's office and left 12 people dead.\n",
      "\n",
      "Speaking to our sister publication Mirror Online, the Union of Commissioners of the National Police confirmed Mr Fredou had taken his own life.\n",
      "\n",
      "\n",
      "In a statement released after his death, a union spokesman said: \"It is with great sadness that we were informed this morning of the death of our colleague Helric Fredou, assigned as Deputy Director of the Regional Service Judicial Police in Limoges.\n",
      "\n",
      "\"On this particular day of national mourning, police commissioners are hit hard by the tragic death of one of their own.\n",
      "\n",
      "\"The Union of Commissioners of the National Police would like to present its most sincere condolences to the relatives of Helric.\n",
      "\n",
      "\"In these difficult times, we have a special thought for all his colleagues.\"\n",
      "\n",
      "Mr Fredou - who was single and had no children - began his career as a police officer in 1997, working in Versailles.\n",
      "\n",
      "He eventually returned to his home town of Limoges and in 2012 became deputy director of the regional police service.\n",
      "\n",
      "\n",
      "French media reports suggest he was depressed and was suffering from burnout.\n",
      "\n",
      "Brothers Said and Cherif Kouachi launched last Wednesday's devastating attack at the office's of the French satirical magazine.\n",
      "\n",
      "The attack left 12 people dead. On Friday, the pair were shot dead by police after taking a man hostage at a family-run printing press in Dammartin-en-Goele .\n",
      "\n",
      "In a separate incident on Friday, Amedy Coulibaly, 32, took about 15 people hostage in a Paris supermarket.\n",
      "\n",
      "Four hostages were killed in the incident along with Coulibaly. </body> <eos>\n"
     ]
    }
   ],
   "source": [
    "print(test.iloc[0]['combinedText'])"
   ]
  },
  {
   "cell_type": "code",
   "execution_count": null,
   "id": "77351ec8-994b-4aaa-9ed8-b1ac5d521788",
   "metadata": {},
   "outputs": [
    {
     "data": {
      "text/html": [
       "<div>\n",
       "<style scoped>\n",
       "    .dataframe tbody tr th:only-of-type {\n",
       "        vertical-align: middle;\n",
       "    }\n",
       "\n",
       "    .dataframe tbody tr th {\n",
       "        vertical-align: top;\n",
       "    }\n",
       "\n",
       "    .dataframe thead th {\n",
       "        text-align: right;\n",
       "    }\n",
       "</style>\n",
       "<table border=\"1\" class=\"dataframe\">\n",
       "  <thead>\n",
       "    <tr style=\"text-align: right;\">\n",
       "      <th></th>\n",
       "      <th>Headline</th>\n",
       "      <th>Body ID</th>\n",
       "      <th>Stance</th>\n",
       "      <th>articleBody</th>\n",
       "      <th>combinedText</th>\n",
       "    </tr>\n",
       "  </thead>\n",
       "  <tbody>\n",
       "    <tr>\n",
       "      <th>0</th>\n",
       "      <td>Ferguson riots: Pregnant woman loses eye after...</td>\n",
       "      <td>2008</td>\n",
       "      <td>3</td>\n",
       "      <td>A RESPECTED senior French police officer inves...</td>\n",
       "      <td>&lt;sos&gt; &lt;head&gt; Ferguson riots: Pregnant woman lo...</td>\n",
       "    </tr>\n",
       "    <tr>\n",
       "      <th>1</th>\n",
       "      <td>Crazy Conservatives Are Sure a Gitmo Detainee ...</td>\n",
       "      <td>1550</td>\n",
       "      <td>3</td>\n",
       "      <td>Dave Morin's social networking company Path is...</td>\n",
       "      <td>&lt;sos&gt; &lt;head&gt; Crazy Conservatives Are Sure a Gi...</td>\n",
       "    </tr>\n",
       "    <tr>\n",
       "      <th>2</th>\n",
       "      <td>A Russian Guy Says His Justin Bieber Ringtone ...</td>\n",
       "      <td>2</td>\n",
       "      <td>3</td>\n",
       "      <td>A bereaved Afghan mother took revenge on the T...</td>\n",
       "      <td>&lt;sos&gt; &lt;head&gt; A Russian Guy Says His Justin Bie...</td>\n",
       "    </tr>\n",
       "    <tr>\n",
       "      <th>3</th>\n",
       "      <td>Zombie Cat: Buried Kitty Believed Dead, Meows ...</td>\n",
       "      <td>1793</td>\n",
       "      <td>3</td>\n",
       "      <td>Hewlett-Packard is officially splitting in two...</td>\n",
       "      <td>&lt;sos&gt; &lt;head&gt; Zombie Cat: Buried Kitty Believed...</td>\n",
       "    </tr>\n",
       "    <tr>\n",
       "      <th>4</th>\n",
       "      <td>Argentina's President Adopts Boy to End Werewo...</td>\n",
       "      <td>37</td>\n",
       "      <td>3</td>\n",
       "      <td>An airline passenger headed to Dallas was remo...</td>\n",
       "      <td>&lt;sos&gt; &lt;head&gt; Argentina's President Adopts Boy ...</td>\n",
       "    </tr>\n",
       "    <tr>\n",
       "      <th>5</th>\n",
       "      <td>Next-generation Apple iPhones' features leaked</td>\n",
       "      <td>2353</td>\n",
       "      <td>3</td>\n",
       "      <td>When faced with the choice of feasting on a fi...</td>\n",
       "      <td>&lt;sos&gt; &lt;head&gt; Next-generation Apple iPhones' fe...</td>\n",
       "    </tr>\n",
       "    <tr>\n",
       "      <th>6</th>\n",
       "      <td>Saudi national airline may introduce gender se...</td>\n",
       "      <td>192</td>\n",
       "      <td>3</td>\n",
       "      <td>The US declared the video of Sotloff to be aut...</td>\n",
       "      <td>&lt;sos&gt; &lt;head&gt; Saudi national airline may introd...</td>\n",
       "    </tr>\n",
       "    <tr>\n",
       "      <th>7</th>\n",
       "      <td>'Zombie Cat' Claws Way Out Of Grave And Into O...</td>\n",
       "      <td>2482</td>\n",
       "      <td>3</td>\n",
       "      <td>19-year-old Iga Jasica of Poland began making ...</td>\n",
       "      <td>&lt;sos&gt; &lt;head&gt; 'Zombie Cat' Claws Way Out Of Gra...</td>\n",
       "    </tr>\n",
       "    <tr>\n",
       "      <th>8</th>\n",
       "      <td>ISIS might be harvesting organs, Iraq tells UN</td>\n",
       "      <td>250</td>\n",
       "      <td>3</td>\n",
       "      <td>Michael Foley says the administration threaten...</td>\n",
       "      <td>&lt;sos&gt; &lt;head&gt; ISIS might be harvesting organs, ...</td>\n",
       "    </tr>\n",
       "    <tr>\n",
       "      <th>9</th>\n",
       "      <td>Woman has surgery to get third breast: The thr...</td>\n",
       "      <td>85</td>\n",
       "      <td>3</td>\n",
       "      <td>Brian Stelter from CNN just reported that hack...</td>\n",
       "      <td>&lt;sos&gt; &lt;head&gt; Woman has surgery to get third br...</td>\n",
       "    </tr>\n",
       "  </tbody>\n",
       "</table>\n",
       "</div>"
      ],
      "text/plain": [
       "                                            Headline  Body ID  Stance  \\\n",
       "0  Ferguson riots: Pregnant woman loses eye after...     2008       3   \n",
       "1  Crazy Conservatives Are Sure a Gitmo Detainee ...     1550       3   \n",
       "2  A Russian Guy Says His Justin Bieber Ringtone ...        2       3   \n",
       "3  Zombie Cat: Buried Kitty Believed Dead, Meows ...     1793       3   \n",
       "4  Argentina's President Adopts Boy to End Werewo...       37       3   \n",
       "5     Next-generation Apple iPhones' features leaked     2353       3   \n",
       "6  Saudi national airline may introduce gender se...      192       3   \n",
       "7  'Zombie Cat' Claws Way Out Of Grave And Into O...     2482       3   \n",
       "8     ISIS might be harvesting organs, Iraq tells UN      250       3   \n",
       "9  Woman has surgery to get third breast: The thr...       85       3   \n",
       "\n",
       "                                         articleBody  \\\n",
       "0  A RESPECTED senior French police officer inves...   \n",
       "1  Dave Morin's social networking company Path is...   \n",
       "2  A bereaved Afghan mother took revenge on the T...   \n",
       "3  Hewlett-Packard is officially splitting in two...   \n",
       "4  An airline passenger headed to Dallas was remo...   \n",
       "5  When faced with the choice of feasting on a fi...   \n",
       "6  The US declared the video of Sotloff to be aut...   \n",
       "7  19-year-old Iga Jasica of Poland began making ...   \n",
       "8  Michael Foley says the administration threaten...   \n",
       "9  Brian Stelter from CNN just reported that hack...   \n",
       "\n",
       "                                        combinedText  \n",
       "0  <sos> <head> Ferguson riots: Pregnant woman lo...  \n",
       "1  <sos> <head> Crazy Conservatives Are Sure a Gi...  \n",
       "2  <sos> <head> A Russian Guy Says His Justin Bie...  \n",
       "3  <sos> <head> Zombie Cat: Buried Kitty Believed...  \n",
       "4  <sos> <head> Argentina's President Adopts Boy ...  \n",
       "5  <sos> <head> Next-generation Apple iPhones' fe...  \n",
       "6  <sos> <head> Saudi national airline may introd...  \n",
       "7  <sos> <head> 'Zombie Cat' Claws Way Out Of Gra...  \n",
       "8  <sos> <head> ISIS might be harvesting organs, ...  \n",
       "9  <sos> <head> Woman has surgery to get third br...  "
      ]
     },
     "execution_count": 51,
     "metadata": {},
     "output_type": "execute_result"
    }
   ],
   "source": [
    "test.head(10)"
   ]
  },
  {
   "cell_type": "code",
   "execution_count": 13,
   "id": "b473b79f-9439-430f-9847-dc9e7f22b229",
   "metadata": {},
   "outputs": [
    {
     "name": "stderr",
     "output_type": "stream",
     "text": [
      "/srv/jupyter_python3-extras/lib/python3.7/site-packages/seaborn/_decorators.py:43: FutureWarning: Pass the following variable as a keyword arg: x. From version 0.12, the only valid positional argument will be `data`, and passing other arguments without an explicit keyword will result in an error or misinterpretation.\n",
      "  FutureWarning\n"
     ]
    },
    {
     "data": {
      "text/plain": [
       "Text(0.5, 0, 'Stance')"
      ]
     },
     "execution_count": 13,
     "metadata": {},
     "output_type": "execute_result"
    },
    {
     "data": {
      "image/png": "[encoded data removed]",
      "text/plain": [
       "<Figure size 432x288 with 1 Axes>"
      ]
     },
     "metadata": {
      "needs_background": "light"
     },
     "output_type": "display_data"
    }
   ],
   "source": [
    "import seaborn as sns\n",
    "import matplotlib.pyplot as plt\n",
    "\n",
    "sns.countplot(train['Stance'])\n",
    "plt.xlabel('Stance')"
   ]
  },
  {
   "cell_type": "code",
   "execution_count": 2,
   "id": "f2a37e14-a0a3-4311-b48a-49ac1de18fd2",
   "metadata": {},
   "outputs": [
    {
     "data": {
      "text/plain": [
       "'/mnt/storage/home/jhhchen/msci-nlp-w22-fnc/notebooks'"
      ]
     },
     "execution_count": 2,
     "metadata": {},
     "output_type": "execute_result"
    }
   ],
   "source": [
    "pwd"
   ]
  },
  {
   "cell_type": "code",
   "execution_count": 4,
   "id": "cbe7e598-db3d-4691-b384-261717b79186",
   "metadata": {},
   "outputs": [
    {
     "data": {
      "text/html": [
       "<div>\n",
       "<style scoped>\n",
       "    .dataframe tbody tr th:only-of-type {\n",
       "        vertical-align: middle;\n",
       "    }\n",
       "\n",
       "    .dataframe tbody tr th {\n",
       "        vertical-align: top;\n",
       "    }\n",
       "\n",
       "    .dataframe thead th {\n",
       "        text-align: right;\n",
       "    }\n",
       "</style>\n",
       "<table border=\"1\" class=\"dataframe\">\n",
       "  <thead>\n",
       "    <tr style=\"text-align: right;\">\n",
       "      <th></th>\n",
       "      <th>Headline</th>\n",
       "      <th>Body ID</th>\n",
       "      <th>Stance</th>\n",
       "    </tr>\n",
       "  </thead>\n",
       "  <tbody>\n",
       "    <tr>\n",
       "      <th>0</th>\n",
       "      <td>Police find mass graves with at least '15 bodi...</td>\n",
       "      <td>712</td>\n",
       "      <td>unrelated</td>\n",
       "    </tr>\n",
       "    <tr>\n",
       "      <th>1</th>\n",
       "      <td>Hundreds of Palestinians flee floods in Gaza a...</td>\n",
       "      <td>158</td>\n",
       "      <td>agree</td>\n",
       "    </tr>\n",
       "    <tr>\n",
       "      <th>2</th>\n",
       "      <td>Christian Bale passes on role of Steve Jobs, a...</td>\n",
       "      <td>137</td>\n",
       "      <td>unrelated</td>\n",
       "    </tr>\n",
       "    <tr>\n",
       "      <th>3</th>\n",
       "      <td>HBO and Apple in Talks for $15/Month Apple TV ...</td>\n",
       "      <td>1034</td>\n",
       "      <td>unrelated</td>\n",
       "    </tr>\n",
       "    <tr>\n",
       "      <th>4</th>\n",
       "      <td>Spider burrowed through tourist's stomach and ...</td>\n",
       "      <td>1923</td>\n",
       "      <td>disagree</td>\n",
       "    </tr>\n",
       "    <tr>\n",
       "      <th>...</th>\n",
       "      <td>...</td>\n",
       "      <td>...</td>\n",
       "      <td>...</td>\n",
       "    </tr>\n",
       "    <tr>\n",
       "      <th>49967</th>\n",
       "      <td>Urgent: The Leader of ISIL 'Abu Bakr al-Baghda...</td>\n",
       "      <td>1681</td>\n",
       "      <td>unrelated</td>\n",
       "    </tr>\n",
       "    <tr>\n",
       "      <th>49968</th>\n",
       "      <td>Brian Williams slams social media for speculat...</td>\n",
       "      <td>2419</td>\n",
       "      <td>unrelated</td>\n",
       "    </tr>\n",
       "    <tr>\n",
       "      <th>49969</th>\n",
       "      <td>Mexico Says Missing Students Not Found In Firs...</td>\n",
       "      <td>1156</td>\n",
       "      <td>agree</td>\n",
       "    </tr>\n",
       "    <tr>\n",
       "      <th>49970</th>\n",
       "      <td>US Lawmaker: Ten ISIS Fighters Have Been Appre...</td>\n",
       "      <td>1012</td>\n",
       "      <td>discuss</td>\n",
       "    </tr>\n",
       "    <tr>\n",
       "      <th>49971</th>\n",
       "      <td>Shots Heard In Alleged Brown Shooting Recordin...</td>\n",
       "      <td>2044</td>\n",
       "      <td>unrelated</td>\n",
       "    </tr>\n",
       "  </tbody>\n",
       "</table>\n",
       "<p>49972 rows × 3 columns</p>\n",
       "</div>"
      ],
      "text/plain": [
       "                                                Headline  Body ID     Stance\n",
       "0      Police find mass graves with at least '15 bodi...      712  unrelated\n",
       "1      Hundreds of Palestinians flee floods in Gaza a...      158      agree\n",
       "2      Christian Bale passes on role of Steve Jobs, a...      137  unrelated\n",
       "3      HBO and Apple in Talks for $15/Month Apple TV ...     1034  unrelated\n",
       "4      Spider burrowed through tourist's stomach and ...     1923   disagree\n",
       "...                                                  ...      ...        ...\n",
       "49967  Urgent: The Leader of ISIL 'Abu Bakr al-Baghda...     1681  unrelated\n",
       "49968  Brian Williams slams social media for speculat...     2419  unrelated\n",
       "49969  Mexico Says Missing Students Not Found In Firs...     1156      agree\n",
       "49970  US Lawmaker: Ten ISIS Fighters Have Been Appre...     1012    discuss\n",
       "49971  Shots Heard In Alleged Brown Shooting Recordin...     2044  unrelated\n",
       "\n",
       "[49972 rows x 3 columns]"
      ]
     },
     "execution_count": 4,
     "metadata": {},
     "output_type": "execute_result"
    }
   ],
   "source": [
    "train_stances"
   ]
  },
  {
   "cell_type": "code",
   "execution_count": 5,
   "id": "83390435-08a7-4af1-b5ff-9a78eb4da3b7",
   "metadata": {},
   "outputs": [
    {
     "data": {
      "text/html": [
       "<div>\n",
       "<style scoped>\n",
       "    .dataframe tbody tr th:only-of-type {\n",
       "        vertical-align: middle;\n",
       "    }\n",
       "\n",
       "    .dataframe tbody tr th {\n",
       "        vertical-align: top;\n",
       "    }\n",
       "\n",
       "    .dataframe thead th {\n",
       "        text-align: right;\n",
       "    }\n",
       "</style>\n",
       "<table border=\"1\" class=\"dataframe\">\n",
       "  <thead>\n",
       "    <tr style=\"text-align: right;\">\n",
       "      <th></th>\n",
       "      <th>Body ID</th>\n",
       "      <th>articleBody</th>\n",
       "    </tr>\n",
       "  </thead>\n",
       "  <tbody>\n",
       "    <tr>\n",
       "      <th>0</th>\n",
       "      <td>0</td>\n",
       "      <td>A small meteorite crashed into a wooded area i...</td>\n",
       "    </tr>\n",
       "    <tr>\n",
       "      <th>1</th>\n",
       "      <td>4</td>\n",
       "      <td>Last week we hinted at what was to come as Ebo...</td>\n",
       "    </tr>\n",
       "    <tr>\n",
       "      <th>2</th>\n",
       "      <td>5</td>\n",
       "      <td>(NEWSER) – Wonder how long a Quarter Pounder w...</td>\n",
       "    </tr>\n",
       "    <tr>\n",
       "      <th>3</th>\n",
       "      <td>6</td>\n",
       "      <td>Posting photos of a gun-toting child online, I...</td>\n",
       "    </tr>\n",
       "    <tr>\n",
       "      <th>4</th>\n",
       "      <td>7</td>\n",
       "      <td>At least 25 suspected Boko Haram insurgents we...</td>\n",
       "    </tr>\n",
       "    <tr>\n",
       "      <th>...</th>\n",
       "      <td>...</td>\n",
       "      <td>...</td>\n",
       "    </tr>\n",
       "    <tr>\n",
       "      <th>1678</th>\n",
       "      <td>2528</td>\n",
       "      <td>Intelligence agencies hunting for identity of ...</td>\n",
       "    </tr>\n",
       "    <tr>\n",
       "      <th>1679</th>\n",
       "      <td>2529</td>\n",
       "      <td>While Daleks \"know no fear\" and \"must not fear...</td>\n",
       "    </tr>\n",
       "    <tr>\n",
       "      <th>1680</th>\n",
       "      <td>2530</td>\n",
       "      <td>More than 200 schoolgirls were kidnapped in Ap...</td>\n",
       "    </tr>\n",
       "    <tr>\n",
       "      <th>1681</th>\n",
       "      <td>2531</td>\n",
       "      <td>A Guantanamo Bay prisoner released last year a...</td>\n",
       "    </tr>\n",
       "    <tr>\n",
       "      <th>1682</th>\n",
       "      <td>2532</td>\n",
       "      <td>ANN ARBOR, Mich. – A pizza delivery man in Mic...</td>\n",
       "    </tr>\n",
       "  </tbody>\n",
       "</table>\n",
       "<p>1683 rows × 2 columns</p>\n",
       "</div>"
      ],
      "text/plain": [
       "      Body ID                                        articleBody\n",
       "0           0  A small meteorite crashed into a wooded area i...\n",
       "1           4  Last week we hinted at what was to come as Ebo...\n",
       "2           5  (NEWSER) – Wonder how long a Quarter Pounder w...\n",
       "3           6  Posting photos of a gun-toting child online, I...\n",
       "4           7  At least 25 suspected Boko Haram insurgents we...\n",
       "...       ...                                                ...\n",
       "1678     2528  Intelligence agencies hunting for identity of ...\n",
       "1679     2529  While Daleks \"know no fear\" and \"must not fear...\n",
       "1680     2530  More than 200 schoolgirls were kidnapped in Ap...\n",
       "1681     2531  A Guantanamo Bay prisoner released last year a...\n",
       "1682     2532  ANN ARBOR, Mich. – A pizza delivery man in Mic...\n",
       "\n",
       "[1683 rows x 2 columns]"
      ]
     },
     "execution_count": 5,
     "metadata": {},
     "output_type": "execute_result"
    }
   ],
   "source": [
    "train_bodies"
   ]
  },
  {
   "cell_type": "code",
   "execution_count": 10,
   "id": "ed112709-5fb8-4a07-a834-d1f92186c258",
   "metadata": {},
   "outputs": [
    {
     "data": {
      "text/plain": [
       "1648"
      ]
     },
     "execution_count": 10,
     "metadata": {},
     "output_type": "execute_result"
    }
   ],
   "source": [
    "len(train_stances['Headline'].unique())"
   ]
  },
  {
   "cell_type": "code",
   "execution_count": null,
   "id": "3a668def-d61c-45f3-a0a6-c3721299dc15",
   "metadata": {},
   "outputs": [],
   "source": []
  }
 ],
 "metadata": {
  "kernelspec": {
   "display_name": "Python 3",
   "language": "python",
   "name": "python3"
  },
  "language_info": {
   "codemirror_mode": {
    "name": "ipython",
    "version": 3
   },
   "file_extension": ".py",
   "mimetype": "text/x-python",
   "name": "python",
   "nbconvert_exporter": "python",
   "pygments_lexer": "ipython3",
   "version": "3.7.10"
  }
 },
 "nbformat": 4,
 "nbformat_minor": 5
}
