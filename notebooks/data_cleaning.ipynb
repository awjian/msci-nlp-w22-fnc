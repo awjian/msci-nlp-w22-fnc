{
 "cells": [
  {
   "cell_type": "code",
   "execution_count": 67,
   "id": "390ed501-ef68-4f69-8ddf-eb2e4d0a4a2f",
   "metadata": {},
   "outputs": [],
   "source": [
    "import pandas as pd\n",
    "from pylab import rcParams\n",
    "\n",
    "train_stances = pd.read_csv('../fnc-1-baseline-master/fnc-1/train_stances.csv')\n",
    "train_bodies = pd.read_csv('../fnc-1-baseline-master/fnc-1/train_bodies.csv')\n",
    "train = train_stances.join(train_bodies.set_index('Body ID'), on='Body ID')\n",
    "\n",
    "test_stances = pd.read_csv('../fnc-1-baseline-master/fnc-1/competition_test_stances.csv')\n",
    "test_bodies = pd.read_csv('../fnc-1-baseline-master/fnc-1/competition_test_bodies.csv')\n",
    "test = test_stances.join(test_bodies.set_index('Body ID'), on='Body ID')"
   ]
  },
  {
   "cell_type": "code",
   "execution_count": 12,
   "id": "e95de367-a9db-4133-9134-fee07d5ff9f7",
   "metadata": {},
   "outputs": [],
   "source": [
    "train.replace('disagree', 0, inplace=True)\n",
    "train.replace('agree', 1, inplace=True)\n",
    "train.replace('discuss', 2, inplace=True)\n",
    "train.replace('unrelated', 3, inplace=True)\n",
    "\n",
    "test.replace('disagree', 0, inplace=True)\n",
    "test.replace('agree', 1, inplace=True)\n",
    "test.replace('discuss', 2, inplace=True)\n",
    "test.replace('unrelated', 3, inplace=True)"
   ]
  },
  {
   "cell_type": "code",
   "execution_count": 11,
   "id": "4012fb06-c386-42f6-bce5-a292f03f2a10",
   "metadata": {},
   "outputs": [],
   "source": [
    "train['combinedText'] = \"<sos> <head> \" + train['Headline'] + \" </head> <body> \" + train['articleBody'] + \" </body> <eos>\" \n",
    "test['combinedText'] = \"<sos> <head> \" + test['Headline'] + \" </head> <body> \" + test['articleBody'] + \" </body> <eos>\" "
   ]
  },
  {
   "cell_type": "code",
   "execution_count": null,
   "id": "67506fdf-81b3-4d05-a296-006d9f5be14f",
   "metadata": {},
   "outputs": [],
   "source": [
    "train.to_csv('msci-nlp-w22-fnc/data/train.csv', index=False, encoding = 'utf-8')\n",
    "test.to_csv('msci-nlp-w22-fnc/data/test.csv', index=False, encoding='utf-8')"
   ]
  },
  {
   "cell_type": "code",
   "execution_count": null,
   "id": "26fa7481-60f2-46b1-a706-1de55b8545c2",
   "metadata": {},
   "outputs": [
    {
     "name": "stdout",
     "output_type": "stream",
     "text": [
      "<sos> <head> Ferguson riots: Pregnant woman loses eye after cops fire BEAN BAG round through car window </head> <body> A RESPECTED senior French police officer investigating the Charlie Hebdo magazine massacre took his own life mere hours after the horrific attacks stunned the world.\n",
      "\n",
      "Commissioner Helric Fredou, 45, turned a gun on himself in his police office in Limoges last Wednesday night, reported France 3.\n",
      "\n",
      "A colleague found his body at 1am on Thursday, the day after three gunmen fired at the satirical magazine's office and left 12 people dead.\n",
      "\n",
      "Speaking to our sister publication Mirror Online, the Union of Commissioners of the National Police confirmed Mr Fredou had taken his own life.\n",
      "\n",
      "\n",
      "In a statement released after his death, a union spokesman said: \"It is with great sadness that we were informed this morning of the death of our colleague Helric Fredou, assigned as Deputy Director of the Regional Service Judicial Police in Limoges.\n",
      "\n",
      "\"On this particular day of national mourning, police commissioners are hit hard by the tragic death of one of their own.\n",
      "\n",
      "\"The Union of Commissioners of the National Police would like to present its most sincere condolences to the relatives of Helric.\n",
      "\n",
      "\"In these difficult times, we have a special thought for all his colleagues.\"\n",
      "\n",
      "Mr Fredou - who was single and had no children - began his career as a police officer in 1997, working in Versailles.\n",
      "\n",
      "He eventually returned to his home town of Limoges and in 2012 became deputy director of the regional police service.\n",
      "\n",
      "\n",
      "French media reports suggest he was depressed and was suffering from burnout.\n",
      "\n",
      "Brothers Said and Cherif Kouachi launched last Wednesday's devastating attack at the office's of the French satirical magazine.\n",
      "\n",
      "The attack left 12 people dead. On Friday, the pair were shot dead by police after taking a man hostage at a family-run printing press in Dammartin-en-Goele .\n",
      "\n",
      "In a separate incident on Friday, Amedy Coulibaly, 32, took about 15 people hostage in a Paris supermarket.\n",
      "\n",
      "Four hostages were killed in the incident along with Coulibaly. </body> <eos>\n"
     ]
    }
   ],
   "source": [
    "print(test.iloc[0]['combinedText'])"
   ]
  },
  {
   "cell_type": "code",
   "execution_count": null,
   "id": "77351ec8-994b-4aaa-9ed8-b1ac5d521788",
   "metadata": {},
   "outputs": [
    {
     "data": {
      "text/html": [
       "<div>\n",
       "<style scoped>\n",
       "    .dataframe tbody tr th:only-of-type {\n",
       "        vertical-align: middle;\n",
       "    }\n",
       "\n",
       "    .dataframe tbody tr th {\n",
       "        vertical-align: top;\n",
       "    }\n",
       "\n",
       "    .dataframe thead th {\n",
       "        text-align: right;\n",
       "    }\n",
       "</style>\n",
       "<table border=\"1\" class=\"dataframe\">\n",
       "  <thead>\n",
       "    <tr style=\"text-align: right;\">\n",
       "      <th></th>\n",
       "      <th>Headline</th>\n",
       "      <th>Body ID</th>\n",
       "      <th>Stance</th>\n",
       "      <th>articleBody</th>\n",
       "      <th>combinedText</th>\n",
       "    </tr>\n",
       "  </thead>\n",
       "  <tbody>\n",
       "    <tr>\n",
       "      <th>0</th>\n",
       "      <td>Ferguson riots: Pregnant woman loses eye after...</td>\n",
       "      <td>2008</td>\n",
       "      <td>3</td>\n",
       "      <td>A RESPECTED senior French police officer inves...</td>\n",
       "      <td>&lt;sos&gt; &lt;head&gt; Ferguson riots: Pregnant woman lo...</td>\n",
       "    </tr>\n",
       "    <tr>\n",
       "      <th>1</th>\n",
       "      <td>Crazy Conservatives Are Sure a Gitmo Detainee ...</td>\n",
       "      <td>1550</td>\n",
       "      <td>3</td>\n",
       "      <td>Dave Morin's social networking company Path is...</td>\n",
       "      <td>&lt;sos&gt; &lt;head&gt; Crazy Conservatives Are Sure a Gi...</td>\n",
       "    </tr>\n",
       "    <tr>\n",
       "      <th>2</th>\n",
       "      <td>A Russian Guy Says His Justin Bieber Ringtone ...</td>\n",
       "      <td>2</td>\n",
       "      <td>3</td>\n",
       "      <td>A bereaved Afghan mother took revenge on the T...</td>\n",
       "      <td>&lt;sos&gt; &lt;head&gt; A Russian Guy Says His Justin Bie...</td>\n",
       "    </tr>\n",
       "    <tr>\n",
       "      <th>3</th>\n",
       "      <td>Zombie Cat: Buried Kitty Believed Dead, Meows ...</td>\n",
       "      <td>1793</td>\n",
       "      <td>3</td>\n",
       "      <td>Hewlett-Packard is officially splitting in two...</td>\n",
       "      <td>&lt;sos&gt; &lt;head&gt; Zombie Cat: Buried Kitty Believed...</td>\n",
       "    </tr>\n",
       "    <tr>\n",
       "      <th>4</th>\n",
       "      <td>Argentina's President Adopts Boy to End Werewo...</td>\n",
       "      <td>37</td>\n",
       "      <td>3</td>\n",
       "      <td>An airline passenger headed to Dallas was remo...</td>\n",
       "      <td>&lt;sos&gt; &lt;head&gt; Argentina's President Adopts Boy ...</td>\n",
       "    </tr>\n",
       "    <tr>\n",
       "      <th>5</th>\n",
       "      <td>Next-generation Apple iPhones' features leaked</td>\n",
       "      <td>2353</td>\n",
       "      <td>3</td>\n",
       "      <td>When faced with the choice of feasting on a fi...</td>\n",
       "      <td>&lt;sos&gt; &lt;head&gt; Next-generation Apple iPhones' fe...</td>\n",
       "    </tr>\n",
       "    <tr>\n",
       "      <th>6</th>\n",
       "      <td>Saudi national airline may introduce gender se...</td>\n",
       "      <td>192</td>\n",
       "      <td>3</td>\n",
       "      <td>The US declared the video of Sotloff to be aut...</td>\n",
       "      <td>&lt;sos&gt; &lt;head&gt; Saudi national airline may introd...</td>\n",
       "    </tr>\n",
       "    <tr>\n",
       "      <th>7</th>\n",
       "      <td>'Zombie Cat' Claws Way Out Of Grave And Into O...</td>\n",
       "      <td>2482</td>\n",
       "      <td>3</td>\n",
       "      <td>19-year-old Iga Jasica of Poland began making ...</td>\n",
       "      <td>&lt;sos&gt; &lt;head&gt; 'Zombie Cat' Claws Way Out Of Gra...</td>\n",
       "    </tr>\n",
       "    <tr>\n",
       "      <th>8</th>\n",
       "      <td>ISIS might be harvesting organs, Iraq tells UN</td>\n",
       "      <td>250</td>\n",
       "      <td>3</td>\n",
       "      <td>Michael Foley says the administration threaten...</td>\n",
       "      <td>&lt;sos&gt; &lt;head&gt; ISIS might be harvesting organs, ...</td>\n",
       "    </tr>\n",
       "    <tr>\n",
       "      <th>9</th>\n",
       "      <td>Woman has surgery to get third breast: The thr...</td>\n",
       "      <td>85</td>\n",
       "      <td>3</td>\n",
       "      <td>Brian Stelter from CNN just reported that hack...</td>\n",
       "      <td>&lt;sos&gt; &lt;head&gt; Woman has surgery to get third br...</td>\n",
       "    </tr>\n",
       "  </tbody>\n",
       "</table>\n",
       "</div>"
      ],
      "text/plain": [
       "                                            Headline  Body ID  Stance  \\\n",
       "0  Ferguson riots: Pregnant woman loses eye after...     2008       3   \n",
       "1  Crazy Conservatives Are Sure a Gitmo Detainee ...     1550       3   \n",
       "2  A Russian Guy Says His Justin Bieber Ringtone ...        2       3   \n",
       "3  Zombie Cat: Buried Kitty Believed Dead, Meows ...     1793       3   \n",
       "4  Argentina's President Adopts Boy to End Werewo...       37       3   \n",
       "5     Next-generation Apple iPhones' features leaked     2353       3   \n",
       "6  Saudi national airline may introduce gender se...      192       3   \n",
       "7  'Zombie Cat' Claws Way Out Of Grave And Into O...     2482       3   \n",
       "8     ISIS might be harvesting organs, Iraq tells UN      250       3   \n",
       "9  Woman has surgery to get third breast: The thr...       85       3   \n",
       "\n",
       "                                         articleBody  \\\n",
       "0  A RESPECTED senior French police officer inves...   \n",
       "1  Dave Morin's social networking company Path is...   \n",
       "2  A bereaved Afghan mother took revenge on the T...   \n",
       "3  Hewlett-Packard is officially splitting in two...   \n",
       "4  An airline passenger headed to Dallas was remo...   \n",
       "5  When faced with the choice of feasting on a fi...   \n",
       "6  The US declared the video of Sotloff to be aut...   \n",
       "7  19-year-old Iga Jasica of Poland began making ...   \n",
       "8  Michael Foley says the administration threaten...   \n",
       "9  Brian Stelter from CNN just reported that hack...   \n",
       "\n",
       "                                        combinedText  \n",
       "0  <sos> <head> Ferguson riots: Pregnant woman lo...  \n",
       "1  <sos> <head> Crazy Conservatives Are Sure a Gi...  \n",
       "2  <sos> <head> A Russian Guy Says His Justin Bie...  \n",
       "3  <sos> <head> Zombie Cat: Buried Kitty Believed...  \n",
       "4  <sos> <head> Argentina's President Adopts Boy ...  \n",
       "5  <sos> <head> Next-generation Apple iPhones' fe...  \n",
       "6  <sos> <head> Saudi national airline may introd...  \n",
       "7  <sos> <head> 'Zombie Cat' Claws Way Out Of Gra...  \n",
       "8  <sos> <head> ISIS might be harvesting organs, ...  \n",
       "9  <sos> <head> Woman has surgery to get third br...  "
      ]
     },
     "execution_count": 51,
     "metadata": {},
     "output_type": "execute_result"
    }
   ],
   "source": [
    "test.head(10)"
   ]
  },
  {
   "cell_type": "code",
   "execution_count": 13,
   "id": "b473b79f-9439-430f-9847-dc9e7f22b229",
   "metadata": {},
   "outputs": [
    {
     "name": "stderr",
     "output_type": "stream",
     "text": [
      "/srv/jupyter_python3-extras/lib/python3.7/site-packages/seaborn/_decorators.py:43: FutureWarning: Pass the following variable as a keyword arg: x. From version 0.12, the only valid positional argument will be `data`, and passing other arguments without an explicit keyword will result in an error or misinterpretation.\n",
      "  FutureWarning\n"
     ]
    },
    {
     "data": {
      "text/plain": [
       "Text(0.5, 1.0, 'Frequency of each label')"
      ]
     },
     "execution_count": 13,
     "metadata": {},
     "output_type": "execute_result"
    },
    {
     "data": {
      "image/png": "[encoded data removed]",
      "text/plain": [
       "<Figure size 432x288 with 1 Axes>"
      ]
     },
     "metadata": {
      "needs_background": "light"
     },
     "output_type": "display_data"
    }
   ],
   "source": [
    "import seaborn as sns\n",
    "import matplotlib.pyplot as plt\n",
    "\n",
    "sns.countplot(train['Stance'])\n",
    "plt.xlabel('Stance')\n",
    "plt.title(\"Frequency of each label\")"
   ]
  },
  {
   "cell_type": "code",
   "execution_count": 17,
   "id": "f2a37e14-a0a3-4311-b48a-49ac1de18fd2",
   "metadata": {},
   "outputs": [
    {
     "data": {
      "text/plain": [
       "3    36545\n",
       "2     8909\n",
       "1     3678\n",
       "0      840\n",
       "Name: Stance, dtype: int64"
      ]
     },
     "execution_count": 17,
     "metadata": {},
     "output_type": "execute_result"
    }
   ],
   "source": [
    "train['Stance'].value_counts()"
   ]
  },
  {
   "cell_type": "code",
   "execution_count": 10,
   "id": "ed112709-5fb8-4a07-a834-d1f92186c258",
   "metadata": {},
   "outputs": [
    {
     "data": {
      "text/plain": [
       "1648"
      ]
     },
     "execution_count": 10,
     "metadata": {},
     "output_type": "execute_result"
    }
   ],
   "source": [
    "len(train_stances['Headline'].unique())"
   ]
  },
  {
   "cell_type": "code",
   "execution_count": 68,
   "id": "3a668def-d61c-45f3-a0a6-c3721299dc15",
   "metadata": {},
   "outputs": [
    {
     "data": {
      "image/png": "[encoded data removed]",
      "text/plain": [
       "<Figure size 576x360 with 1 Axes>"
      ]
     },
     "metadata": {
      "needs_background": "light"
     },
     "output_type": "display_data"
    }
   ],
   "source": [
    "fnc_scores = {\n",
    "    'CNN V1': 6846.5,\n",
    "    'CNN V2': 7026.0,\n",
    "    'CNN V3': 6499.75,\n",
    "    'LSTM V1': 6696.0,\n",
    "    'LSTM V2': 6951.0,\n",
    "    'BERT V1': 4587.25,\n",
    "    'BERT V2': 9434.0,\n",
    "    'BERT V3': 9858.0\n",
    "}\n",
    "\n",
    "plt.bar(range(len(fnc_scores)), list(fnc_scores.values()), align='center')\n",
    "plt.xticks(range(len(fnc_scores)), list(fnc_scores.keys()))\n",
    "plt.title(\"FNC Scores for Each Model\")\n",
    "plt.xlabel(\"Model\")\n",
    "plt.ylabel(\"FNC Score\")\n",
    "rcParams['figure.figsize'] = 8, 5\n",
    "plt.show()\n"
   ]
  },
  {
   "cell_type": "code",
   "execution_count": 66,
   "id": "47d18489-dc4e-4183-b5cf-ee40767b25b8",
   "metadata": {},
   "outputs": [
    {
     "name": "stdout",
     "output_type": "stream",
     "text": [
      "     Model  Disagree  Agree  Discuss  Unrelated\n",
      "0   CNN V1     0.003  0.231    0.433      0.807\n",
      "1   CNN V2     0.101  0.283    0.478      0.827\n",
      "2   CNN V3     0.047  0.262    0.417      0.791\n",
      "3  LSTM V1     0.007  0.248    0.450      0.845\n",
      "4  LSTM V2     0.067  0.289    0.468      0.830\n",
      "5  BERT V1     0.000  0.000    0.000      0.839\n",
      "6  BERT V2     0.003  0.537    0.730      0.981\n",
      "7  BERT V3     0.236  0.612    0.800      0.983\n"
     ]
    },
    {
     "data": {
      "image/png": "[encoded data removed]",
      "text/plain": [
       "<Figure size 576x360 with 1 Axes>"
      ]
     },
     "metadata": {
      "needs_background": "light"
     },
     "output_type": "display_data"
    }
   ],
   "source": [
    "f1_scores_df = pd.DataFrame(\n",
    "    [['CNN V1', 0.003, 0.231, 0.433, 0.807], ['CNN V2', 0.101, 0.283, 0.478, 0.827], \n",
    "    ['CNN V3', 0.047, 0.262, 0.417, 0.791], ['LSTM V1', 0.007, 0.248, 0.450, 0.845],\n",
    "    ['LSTM V2', 0.067, 0.289, 0.468, 0.830], ['BERT V1', 0.0, 0.0, 0.0, 0.839],\n",
    "    ['BERT V2', 0.003, 0.537, 0.730, 0.981], ['BERT V3', 0.236, 0.612, 0.800, 0.983]],\n",
    "    columns=['Model', 'Disagree', 'Agree', 'Discuss', 'Unrelated']\n",
    ")\n",
    "\n",
    "print(f1_scores_df)\n",
    "f1_scores_df.plot(x='Model',\n",
    "                  kind='bar',\n",
    "                  stacked=False,\n",
    "                  title='F-1 Scores for Each Model')\n",
    "plt.xticks(rotation=0)\n",
    "plt.ylabel('F-1 Score')\n",
    "\n",
    "rcParams['figure.figsize'] = 8, 5\n",
    "# plt.rcParams['figure.figsize'] = (20,3)\n",
    "# plt.rcParams[\"figure.figsize\"] = plt.rcParamsDefault[\"figure.figsize\"]\n"
   ]
  },
  {
   "cell_type": "code",
   "execution_count": null,
   "id": "43f1a2da-cabd-43dd-95c8-de8eedaa180a",
   "metadata": {},
   "outputs": [],
   "source": []
  }
 ],
 "metadata": {
  "kernelspec": {
   "display_name": "Python 3",
   "language": "python",
   "name": "python3"
  },
  "language_info": {
   "codemirror_mode": {
    "name": "ipython",
    "version": 3
   },
   "file_extension": ".py",
   "mimetype": "text/x-python",
   "name": "python",
   "nbconvert_exporter": "python",
   "pygments_lexer": "ipython3",
   "version": "3.7.10"
  }
 },
 "nbformat": 4,
 "nbformat_minor": 5
}
